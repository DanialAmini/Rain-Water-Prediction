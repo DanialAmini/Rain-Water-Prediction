{
  "cells": [
    {
      "metadata": {
        "trusted": true
      },
      "cell_type": "code",
      "source": "import pandas as pd\nimport numpy as np",
      "execution_count": 40,
      "outputs": []
    },
    {
      "metadata": {
        "trusted": true
      },
      "cell_type": "code",
      "source": "dataset = pd.read_excel('Rain_Water_Data.xlsx', sep=';', header=0, error_bad_lines=False)\n\n# summarize\nprint(dataset.shape)\nprint(dataset.head())",
      "execution_count": 41,
      "outputs": [
        {
          "output_type": "stream",
          "text": "(59828, 8)\n      ID               TIMESTAMP  TRENDFLAGS  STATUS  VALUE TRENDFLAGS_TAG  \\\n0  95841 2019-04-27 11:00:00.587           0       0   1840            { }   \n1  95840 2019-04-27 10:45:00.090           0       0   1829            { }   \n2  95839 2019-04-27 10:30:00.113           0       0   1819            { }   \n3  95838 2019-04-27 10:15:00.100           0       0   1813            { }   \n4  95837 2019-04-27 10:00:00.143           0       0   1813            { }   \n\n  STATUS_TAG  ACTUALVALUE  \n0       {ok}          NaN  \n1       {ok}     235300.0  \n2       {ok}     234300.0  \n3       {ok}     233700.0  \n4       {ok}     233700.0  \n",
          "name": "stdout"
        }
      ]
    },
    {
      "metadata": {
        "trusted": true
      },
      "cell_type": "code",
      "source": "from pandas import datetime\n\n\ndf = pd.DataFrame(dataset,columns=['TIMESTAMP', 'ACTUALVALUE'])\n#df.head(10)\n\n#converting dataframe index to datetime index\ndf['TimeReviewed'] = pd.to_datetime(df['TIMESTAMP'])\ndf = df.set_index('TimeReviewed')\ndf.drop(['TIMESTAMP'], axis=1, inplace=True)\ndf.head()\n\n",
      "execution_count": 42,
      "outputs": [
        {
          "output_type": "execute_result",
          "execution_count": 42,
          "data": {
            "text/html": "<div>\n<style scoped>\n    .dataframe tbody tr th:only-of-type {\n        vertical-align: middle;\n    }\n\n    .dataframe tbody tr th {\n        vertical-align: top;\n    }\n\n    .dataframe thead th {\n        text-align: right;\n    }\n</style>\n<table border=\"1\" class=\"dataframe\">\n  <thead>\n    <tr style=\"text-align: right;\">\n      <th></th>\n      <th>ACTUALVALUE</th>\n    </tr>\n    <tr>\n      <th>TimeReviewed</th>\n      <th></th>\n    </tr>\n  </thead>\n  <tbody>\n    <tr>\n      <th>2019-04-27 11:00:00.587</th>\n      <td>NaN</td>\n    </tr>\n    <tr>\n      <th>2019-04-27 10:45:00.090</th>\n      <td>235300.0</td>\n    </tr>\n    <tr>\n      <th>2019-04-27 10:30:00.113</th>\n      <td>234300.0</td>\n    </tr>\n    <tr>\n      <th>2019-04-27 10:15:00.100</th>\n      <td>233700.0</td>\n    </tr>\n    <tr>\n      <th>2019-04-27 10:00:00.143</th>\n      <td>233700.0</td>\n    </tr>\n  </tbody>\n</table>\n</div>",
            "text/plain": "                         ACTUALVALUE\nTimeReviewed                        \n2019-04-27 11:00:00.587          NaN\n2019-04-27 10:45:00.090     235300.0\n2019-04-27 10:30:00.113     234300.0\n2019-04-27 10:15:00.100     233700.0\n2019-04-27 10:00:00.143     233700.0"
          },
          "metadata": {}
        }
      ]
    },
    {
      "metadata": {
        "trusted": true
      },
      "cell_type": "code",
      "source": "df2 = df.resample('D').sum()\ndf2.head()",
      "execution_count": 43,
      "outputs": [
        {
          "output_type": "execute_result",
          "execution_count": 43,
          "data": {
            "text/html": "<div>\n<style scoped>\n    .dataframe tbody tr th:only-of-type {\n        vertical-align: middle;\n    }\n\n    .dataframe tbody tr th {\n        vertical-align: top;\n    }\n\n    .dataframe thead th {\n        text-align: right;\n    }\n</style>\n<table border=\"1\" class=\"dataframe\">\n  <thead>\n    <tr style=\"text-align: right;\">\n      <th></th>\n      <th>ACTUALVALUE</th>\n    </tr>\n    <tr>\n      <th>TimeReviewed</th>\n      <th></th>\n    </tr>\n  </thead>\n  <tbody>\n    <tr>\n      <th>2017-08-05</th>\n      <td>1502800.0</td>\n    </tr>\n    <tr>\n      <th>2017-08-06</th>\n      <td>5548800.0</td>\n    </tr>\n    <tr>\n      <th>2017-08-07</th>\n      <td>5548800.0</td>\n    </tr>\n    <tr>\n      <th>2017-08-08</th>\n      <td>5606600.0</td>\n    </tr>\n    <tr>\n      <th>2017-08-09</th>\n      <td>5548800.0</td>\n    </tr>\n  </tbody>\n</table>\n</div>",
            "text/plain": "              ACTUALVALUE\nTimeReviewed             \n2017-08-05      1502800.0\n2017-08-06      5548800.0\n2017-08-07      5548800.0\n2017-08-08      5606600.0\n2017-08-09      5548800.0"
          },
          "metadata": {}
        }
      ]
    },
    {
      "metadata": {
        "trusted": true
      },
      "cell_type": "code",
      "source": "import matplotlib.pyplot as plt\ndf2.plot()\nplt.title('Water Production Apr 2017--Apr 2019')\nplt.show()",
      "execution_count": 44,
      "outputs": [
        {
          "output_type": "display_data",
          "data": {
            "image/png": "[encoded data removed]",
            "text/plain": "<Figure size 432x288 with 1 Axes>"
          },
          "metadata": {
            "needs_background": "light"
          }
        }
      ]
    },
    {
      "metadata": {
        "trusted": true
      },
      "cell_type": "code",
      "source": "import numpy\nimport matplotlib.pyplot as plt\nimport pandas\nimport math\nfrom keras.models import Sequential\nfrom keras.layers import Dense\nfrom keras.layers import LSTM\nfrom sklearn.preprocessing import MinMaxScaler\nfrom sklearn.metrics import mean_squared_error\n",
      "execution_count": 45,
      "outputs": []
    },
    {
      "metadata": {
        "trusted": true
      },
      "cell_type": "code",
      "source": "# convert the integer values to floating point values, which are more suitable for modeling with a neural network.\ndataset = df2.values\ndataset = dataset.astype('float32')",
      "execution_count": 46,
      "outputs": []
    },
    {
      "metadata": {
        "trusted": true
      },
      "cell_type": "code",
      "source": "# Since LSTMs are sensitive to the scale of input data(specifically when sigmoid and tanh activation functions is used). We need to normalize data in order to rescale to between 0 and 1\nscaler = MinMaxScaler(feature_range=(0, 1))\ndataset = scaler.fit_transform(dataset)",
      "execution_count": 47,
      "outputs": []
    },
    {
      "metadata": {
        "trusted": true
      },
      "cell_type": "code",
      "source": "# split the ordered dataset into train and test datasets. The code below calculates the index of the split point and separates the data into the training datasets with 67% of the observations that we can use to train our model, leaving the remaining 33% for testing the model.\ntrain_size = int(len(dataset) * 0.8)\ntest_size = len(dataset) - train_size\ntrain, test = dataset[0:train_size,:], dataset[train_size:len(dataset),:]\nprint(len(train), len(test))\n",
      "execution_count": 63,
      "outputs": [
        {
          "output_type": "stream",
          "text": "504 127\n",
          "name": "stdout"
        }
      ]
    },
    {
      "metadata": {
        "trusted": true
      },
      "cell_type": "code",
      "source": "#the function has two arguments: dataset,look_back, which is the number of previous time steps to use as input variables to predict the next time period by default = 1\n#This default will create a dataset where X is the actual value of water consumed at a given time (t) and Y is the actual value of water consumed at the next time (t + 1).\n\n\ndef create_dataset(dataset, look_back=1):\n\tdataX, dataY = [], []\n\tfor i in range(len(dataset)-look_back-1):\n\t\ta = dataset[i:(i+look_back), 0]\n\t\tdataX.append(a)\n\t\tdataY.append(dataset[i + look_back, 0])\n\treturn numpy.array(dataX), numpy.array(dataY)",
      "execution_count": 71,
      "outputs": []
    },
    {
      "metadata": {
        "trusted": true
      },
      "cell_type": "code",
      "source": "# reshape into X=t and Y=t+1\nlook_back = 1\ntrainX, trainY = create_dataset(train, look_back)\ntestX, testY = create_dataset(test, look_back)\n",
      "execution_count": 72,
      "outputs": []
    },
    {
      "metadata": {
        "trusted": true
      },
      "cell_type": "code",
      "source": "# reshape input to be [samples, time steps, features] in order for it to fit in the LSTM\ntrainX = numpy.reshape(trainX, (trainX.shape[0], 1, trainX.shape[1]))\ntestX = numpy.reshape(testX, (testX.shape[0], 1, testX.shape[1]))",
      "execution_count": 73,
      "outputs": []
    },
    {
      "metadata": {
        "trusted": true
      },
      "cell_type": "code",
      "source": "# create and fit the LSTM network\n#The network has a visible layer with 1 input, a hidden layer with 2000 LSTM blocks or neurons, and an output layer that makes a single value prediction.\n# The network is trained for 100 epochs and a batch size of 1 is used.\nmodel = Sequential()\nmodel.add(LSTM(2000, input_shape=(1, look_back)))\nmodel.add(Dense(1))\nmodel.compile(loss='mean_squared_error', optimizer='adam')\nmodel.fit(trainX, trainY,  validation_split=0.4, epochs=20)                                       ",
      "execution_count": 74,
      "outputs": [
        {
          "output_type": "stream",
          "text": "Train on 301 samples, validate on 201 samples\nEpoch 1/20\n301/301 [==============================] - 20s 67ms/step - loss: 0.2019 - val_loss: 0.1844\nEpoch 2/20\n301/301 [==============================] - 8s 25ms/step - loss: 0.0337 - val_loss: 0.0050\nEpoch 3/20\n301/301 [==============================] - 7s 24ms/step - loss: 0.0173 - val_loss: 2.5405e-04\nEpoch 4/20\n301/301 [==============================] - 8s 26ms/step - loss: 0.0103 - val_loss: 0.0198\nEpoch 5/20\n301/301 [==============================] - 10s 33ms/step - loss: 0.0084 - val_loss: 0.0192\nEpoch 6/20\n301/301 [==============================] - 8s 27ms/step - loss: 0.0067 - val_loss: 0.0080\nEpoch 7/20\n301/301 [==============================] - 12s 39ms/step - loss: 0.0065 - val_loss: 0.0079\nEpoch 8/20\n301/301 [==============================] - 10s 33ms/step - loss: 0.0058 - val_loss: 0.0100\nEpoch 9/20\n301/301 [==============================] - 10s 34ms/step - loss: 0.0054 - val_loss: 0.0082\nEpoch 10/20\n301/301 [==============================] - 10s 33ms/step - loss: 0.0050 - val_loss: 0.0069\nEpoch 11/20\n301/301 [==============================] - 10s 34ms/step - loss: 0.0045 - val_loss: 0.0064\nEpoch 12/20\n301/301 [==============================] - 10s 32ms/step - loss: 0.0041 - val_loss: 0.0056\nEpoch 13/20\n301/301 [==============================] - 7s 22ms/step - loss: 0.0037 - val_loss: 0.0050\nEpoch 14/20\n301/301 [==============================] - 7s 24ms/step - loss: 0.0033 - val_loss: 0.0039\nEpoch 15/20\n301/301 [==============================] - 6s 21ms/step - loss: 0.0030 - val_loss: 0.0035\nEpoch 16/20\n301/301 [==============================] - 7s 22ms/step - loss: 0.0026 - val_loss: 0.0031\nEpoch 17/20\n301/301 [==============================] - 8s 25ms/step - loss: 0.0023 - val_loss: 0.0021\nEpoch 18/20\n301/301 [==============================] - 7s 24ms/step - loss: 0.0020 - val_loss: 0.0019\nEpoch 19/20\n301/301 [==============================] - 7s 22ms/step - loss: 0.0018 - val_loss: 0.0013\nEpoch 20/20\n301/301 [==============================] - 6s 21ms/step - loss: 0.0016 - val_loss: 9.8885e-04\n",
          "name": "stdout"
        },
        {
          "output_type": "execute_result",
          "execution_count": 74,
          "data": {
            "text/plain": "<keras.callbacks.History at 0x7f700e6f5f60>"
          },
          "metadata": {}
        }
      ]
    },
    {
      "metadata": {
        "trusted": true
      },
      "cell_type": "code",
      "source": "#we can estimate the performance of the model on the train and test datasets.\n# make predictions\ntrainPredict = model.predict(trainX)\ntestPredict = model.predict(testX)\n#we invert the predictions before calculating error scores to ensure that performance is reported in the same units as the original datas\ntrainPredict = scaler.inverse_transform(trainPredict)\ntrainY = scaler.inverse_transform([trainY])\ntestPredict = scaler.inverse_transform(testPredict)\ntestY = scaler.inverse_transform([testY])\n",
      "execution_count": 75,
      "outputs": []
    },
    {
      "metadata": {
        "trusted": true
      },
      "cell_type": "code",
      "source": "# calculate RMSE\ntrainScore = math.sqrt(mean_squared_error(trainY[0], trainPredict[:,0]))\nprint('Train Score: %.2f RMSE' % (trainScore))\ntestScore = math.sqrt(mean_squared_error(testY[0], testPredict[:,0]))\nprint('Test Score: %.2f RMSE' % (testScore))\n",
      "execution_count": 76,
      "outputs": [
        {
          "output_type": "stream",
          "text": "Train Score: 780454.65 RMSE\nTest Score: 3229143.05 RMSE\n",
          "name": "stdout"
        }
      ]
    },
    {
      "metadata": {
        "trusted": true
      },
      "cell_type": "code",
      "source": "\n# shift train predictions for plotting\ntrainPredictPlot = numpy.empty_like(dataset)\ntrainPredictPlot[:, :] = numpy.nan\ntrainPredictPlot[look_back:len(trainPredict)+look_back, :] = trainPredict\n# shift test predictions for plotting\ntestPredictPlot = numpy.empty_like(dataset)\ntestPredictPlot[:, :] = numpy.nan\ntestPredictPlot[len(trainPredict)+(look_back*2)+1:len(dataset)-1, :] = testPredict\n# plot baseline and predictions\nplt.plot(scaler.inverse_transform(dataset))\nplt.plot(trainPredictPlot)\nplt.plot(testPredictPlot)\nplt.show()\n# original dataset in blue, the predictions for the training dataset in orange, and the predictions on the unseen test dataset in green.",
      "execution_count": 77,
      "outputs": [
        {
          "output_type": "display_data",
          "data": {
            "image/png": "[encoded data removed]",
            "text/plain": "<Figure size 432x288 with 1 Axes>"
          },
          "metadata": {
            "needs_background": "light"
          }
        }
      ]
    },
    {
      "metadata": {
        "trusted": true
      },
      "cell_type": "code",
      "source": "",
      "execution_count": null,
      "outputs": []
    },
    {
      "metadata": {
        "trusted": true
      },
      "cell_type": "code",
      "source": "",
      "execution_count": null,
      "outputs": []
    }
  ],
  "metadata": {
    "kernelspec": {
      "name": "python36",
      "display_name": "Python 3.6",
      "language": "python"
    },
    "language_info": {
      "mimetype": "text/x-python",
      "nbconvert_exporter": "python",
      "name": "python",
      "pygments_lexer": "ipython3",
      "version": "3.6.6",
      "file_extension": ".py",
      "codemirror_mode": {
        "version": 3,
        "name": "ipython"
      }
    }
  },
  "nbformat": 4,
  "nbformat_minor": 2
}